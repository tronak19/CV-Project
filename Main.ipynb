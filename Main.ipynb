{
 "cells": [
  {
   "cell_type": "code",
   "execution_count": 61,
   "metadata": {
    "collapsed": true
   },
   "outputs": [],
   "source": [
    "import cv2\n",
    "import numpy as np\n",
    "import matplotlib.pyplot as plt\n",
    "from skimage import measure\n",
    "from midiutil.MidiFile import MIDIFile\n",
    "import pygame"
   ]
  },
  {
   "cell_type": "markdown",
   "metadata": {},
   "source": [
    "# Image Preprocessing"
   ]
  },
  {
   "cell_type": "code",
   "execution_count": 62,
   "metadata": {},
   "outputs": [],
   "source": [
    "img = cv2.imread('Images/TTLS.png', 0)"
   ]
  },
  {
   "cell_type": "code",
   "execution_count": 63,
   "metadata": {},
   "outputs": [
    {
     "ename": "TypeError",
     "evalue": "Image data cannot be converted to float",
     "output_type": "error",
     "traceback": [
      "\u001b[1;31m---------------------------------------------------------------------------\u001b[0m",
      "\u001b[1;31mTypeError\u001b[0m                                 Traceback (most recent call last)",
      "\u001b[1;32m<ipython-input-63-b6240989f1df>\u001b[0m in \u001b[0;36m<module>\u001b[1;34m()\u001b[0m\n\u001b[0;32m      1\u001b[0m \u001b[0mplt\u001b[0m\u001b[1;33m.\u001b[0m\u001b[0mfigure\u001b[0m\u001b[1;33m(\u001b[0m\u001b[0mfigsize\u001b[0m\u001b[1;33m=\u001b[0m\u001b[1;33m(\u001b[0m\u001b[1;36m16\u001b[0m\u001b[1;33m,\u001b[0m\u001b[1;36m16\u001b[0m\u001b[1;33m)\u001b[0m\u001b[1;33m)\u001b[0m\u001b[1;33m\u001b[0m\u001b[0m\n\u001b[1;32m----> 2\u001b[1;33m \u001b[0mplt\u001b[0m\u001b[1;33m.\u001b[0m\u001b[0mimshow\u001b[0m\u001b[1;33m(\u001b[0m\u001b[0mimg\u001b[0m\u001b[1;33m,\u001b[0m \u001b[0mcmap\u001b[0m \u001b[1;33m=\u001b[0m \u001b[1;34m'gray'\u001b[0m\u001b[1;33m)\u001b[0m\u001b[1;33m\u001b[0m\u001b[0m\n\u001b[0m\u001b[0;32m      3\u001b[0m \u001b[0mplt\u001b[0m\u001b[1;33m.\u001b[0m\u001b[0mxticks\u001b[0m\u001b[1;33m(\u001b[0m\u001b[1;33m[\u001b[0m\u001b[1;33m]\u001b[0m\u001b[1;33m)\u001b[0m\u001b[1;33m,\u001b[0m \u001b[0mplt\u001b[0m\u001b[1;33m.\u001b[0m\u001b[0myticks\u001b[0m\u001b[1;33m(\u001b[0m\u001b[1;33m[\u001b[0m\u001b[1;33m]\u001b[0m\u001b[1;33m)\u001b[0m\u001b[1;33m\u001b[0m\u001b[0m\n\u001b[0;32m      4\u001b[0m \u001b[0mplt\u001b[0m\u001b[1;33m.\u001b[0m\u001b[0mtitle\u001b[0m\u001b[1;33m(\u001b[0m\u001b[1;34m'Original Image'\u001b[0m\u001b[1;33m)\u001b[0m\u001b[1;33m\u001b[0m\u001b[0m\n\u001b[0;32m      5\u001b[0m \u001b[0mplt\u001b[0m\u001b[1;33m.\u001b[0m\u001b[0mshow\u001b[0m\u001b[1;33m(\u001b[0m\u001b[1;33m)\u001b[0m\u001b[1;33m\u001b[0m\u001b[0m\n",
      "\u001b[1;32mC:\\Users\\trona\\Anaconda3\\lib\\site-packages\\matplotlib\\pyplot.py\u001b[0m in \u001b[0;36mimshow\u001b[1;34m(X, cmap, norm, aspect, interpolation, alpha, vmin, vmax, origin, extent, shape, filternorm, filterrad, imlim, resample, url, hold, data, **kwargs)\u001b[0m\n\u001b[0;32m   3203\u001b[0m                         \u001b[0mfilternorm\u001b[0m\u001b[1;33m=\u001b[0m\u001b[0mfilternorm\u001b[0m\u001b[1;33m,\u001b[0m \u001b[0mfilterrad\u001b[0m\u001b[1;33m=\u001b[0m\u001b[0mfilterrad\u001b[0m\u001b[1;33m,\u001b[0m\u001b[1;33m\u001b[0m\u001b[0m\n\u001b[0;32m   3204\u001b[0m                         \u001b[0mimlim\u001b[0m\u001b[1;33m=\u001b[0m\u001b[0mimlim\u001b[0m\u001b[1;33m,\u001b[0m \u001b[0mresample\u001b[0m\u001b[1;33m=\u001b[0m\u001b[0mresample\u001b[0m\u001b[1;33m,\u001b[0m \u001b[0murl\u001b[0m\u001b[1;33m=\u001b[0m\u001b[0murl\u001b[0m\u001b[1;33m,\u001b[0m \u001b[0mdata\u001b[0m\u001b[1;33m=\u001b[0m\u001b[0mdata\u001b[0m\u001b[1;33m,\u001b[0m\u001b[1;33m\u001b[0m\u001b[0m\n\u001b[1;32m-> 3205\u001b[1;33m                         **kwargs)\n\u001b[0m\u001b[0;32m   3206\u001b[0m     \u001b[1;32mfinally\u001b[0m\u001b[1;33m:\u001b[0m\u001b[1;33m\u001b[0m\u001b[0m\n\u001b[0;32m   3207\u001b[0m         \u001b[0max\u001b[0m\u001b[1;33m.\u001b[0m\u001b[0m_hold\u001b[0m \u001b[1;33m=\u001b[0m \u001b[0mwashold\u001b[0m\u001b[1;33m\u001b[0m\u001b[0m\n",
      "\u001b[1;32mC:\\Users\\trona\\Anaconda3\\lib\\site-packages\\matplotlib\\__init__.py\u001b[0m in \u001b[0;36minner\u001b[1;34m(ax, *args, **kwargs)\u001b[0m\n\u001b[0;32m   1853\u001b[0m                         \u001b[1;34m\"the Matplotlib list!)\"\u001b[0m \u001b[1;33m%\u001b[0m \u001b[1;33m(\u001b[0m\u001b[0mlabel_namer\u001b[0m\u001b[1;33m,\u001b[0m \u001b[0mfunc\u001b[0m\u001b[1;33m.\u001b[0m\u001b[0m__name__\u001b[0m\u001b[1;33m)\u001b[0m\u001b[1;33m,\u001b[0m\u001b[1;33m\u001b[0m\u001b[0m\n\u001b[0;32m   1854\u001b[0m                         RuntimeWarning, stacklevel=2)\n\u001b[1;32m-> 1855\u001b[1;33m             \u001b[1;32mreturn\u001b[0m \u001b[0mfunc\u001b[0m\u001b[1;33m(\u001b[0m\u001b[0max\u001b[0m\u001b[1;33m,\u001b[0m \u001b[1;33m*\u001b[0m\u001b[0margs\u001b[0m\u001b[1;33m,\u001b[0m \u001b[1;33m**\u001b[0m\u001b[0mkwargs\u001b[0m\u001b[1;33m)\u001b[0m\u001b[1;33m\u001b[0m\u001b[0m\n\u001b[0m\u001b[0;32m   1856\u001b[0m \u001b[1;33m\u001b[0m\u001b[0m\n\u001b[0;32m   1857\u001b[0m         inner.__doc__ = _add_data_doc(inner.__doc__,\n",
      "\u001b[1;32mC:\\Users\\trona\\Anaconda3\\lib\\site-packages\\matplotlib\\axes\\_axes.py\u001b[0m in \u001b[0;36mimshow\u001b[1;34m(self, X, cmap, norm, aspect, interpolation, alpha, vmin, vmax, origin, extent, shape, filternorm, filterrad, imlim, resample, url, **kwargs)\u001b[0m\n\u001b[0;32m   5485\u001b[0m                               resample=resample, **kwargs)\n\u001b[0;32m   5486\u001b[0m \u001b[1;33m\u001b[0m\u001b[0m\n\u001b[1;32m-> 5487\u001b[1;33m         \u001b[0mim\u001b[0m\u001b[1;33m.\u001b[0m\u001b[0mset_data\u001b[0m\u001b[1;33m(\u001b[0m\u001b[0mX\u001b[0m\u001b[1;33m)\u001b[0m\u001b[1;33m\u001b[0m\u001b[0m\n\u001b[0m\u001b[0;32m   5488\u001b[0m         \u001b[0mim\u001b[0m\u001b[1;33m.\u001b[0m\u001b[0mset_alpha\u001b[0m\u001b[1;33m(\u001b[0m\u001b[0malpha\u001b[0m\u001b[1;33m)\u001b[0m\u001b[1;33m\u001b[0m\u001b[0m\n\u001b[0;32m   5489\u001b[0m         \u001b[1;32mif\u001b[0m \u001b[0mim\u001b[0m\u001b[1;33m.\u001b[0m\u001b[0mget_clip_path\u001b[0m\u001b[1;33m(\u001b[0m\u001b[1;33m)\u001b[0m \u001b[1;32mis\u001b[0m \u001b[1;32mNone\u001b[0m\u001b[1;33m:\u001b[0m\u001b[1;33m\u001b[0m\u001b[0m\n",
      "\u001b[1;32mC:\\Users\\trona\\Anaconda3\\lib\\site-packages\\matplotlib\\image.py\u001b[0m in \u001b[0;36mset_data\u001b[1;34m(self, A)\u001b[0m\n\u001b[0;32m    647\u001b[0m         if (self._A.dtype != np.uint8 and\n\u001b[0;32m    648\u001b[0m                 not np.can_cast(self._A.dtype, float, \"same_kind\")):\n\u001b[1;32m--> 649\u001b[1;33m             \u001b[1;32mraise\u001b[0m \u001b[0mTypeError\u001b[0m\u001b[1;33m(\u001b[0m\u001b[1;34m\"Image data cannot be converted to float\"\u001b[0m\u001b[1;33m)\u001b[0m\u001b[1;33m\u001b[0m\u001b[0m\n\u001b[0m\u001b[0;32m    650\u001b[0m \u001b[1;33m\u001b[0m\u001b[0m\n\u001b[0;32m    651\u001b[0m         if not (self._A.ndim == 2\n",
      "\u001b[1;31mTypeError\u001b[0m: Image data cannot be converted to float"
     ]
    }
   ],
   "source": [
    "plt.figure(figsize=(16,16))\n",
    "plt.imshow(img, cmap = 'gray')\n",
    "plt.xticks([]), plt.yticks([])\n",
    "plt.title('Original Image')\n",
    "plt.show()"
   ]
  },
  {
   "cell_type": "code",
   "execution_count": null,
   "metadata": {},
   "outputs": [],
   "source": [
    "blur = cv2.GaussianBlur(img,(3,3),0)\n",
    "thresh, img_bw = cv2.threshold(blur, 0, 255, cv2.THRESH_BINARY_INV+cv2.THRESH_OTSU)"
   ]
  },
  {
   "cell_type": "code",
   "execution_count": null,
   "metadata": {},
   "outputs": [],
   "source": [
    "plt.figure(figsize=(16,16))\n",
    "plt.imshow(img_bw, cmap = 'gray')\n",
    "plt.xticks([]), plt.yticks([])\n",
    "plt.title('Binarized Image')\n",
    "plt.show()"
   ]
  },
  {
   "cell_type": "markdown",
   "metadata": {},
   "source": [
    "# Segmentation"
   ]
  },
  {
   "cell_type": "code",
   "execution_count": null,
   "metadata": {
    "collapsed": true
   },
   "outputs": [],
   "source": [
    "def horizontal_projection(img):\n",
    "    h,w = img.shape\n",
    "    row_sum = []\n",
    "    for i in range(h):\n",
    "        row_sum.append(sum(img[i, 0:w]))\n",
    "    return row_sum"
   ]
  },
  {
   "cell_type": "code",
   "execution_count": null,
   "metadata": {
    "collapsed": true
   },
   "outputs": [],
   "source": [
    "def vertical_projection(img):\n",
    "    h,w = img.shape\n",
    "    col_sum = []\n",
    "    for i in range(w):\n",
    "        col_sum.append(sum(img[0:h, i]))\n",
    "    return col_sum"
   ]
  },
  {
   "cell_type": "code",
   "execution_count": null,
   "metadata": {
    "collapsed": true
   },
   "outputs": [],
   "source": [
    "h,w = img.shape\n",
    "\n",
    "row_sum = horizontal_projection(img_bw)\n",
    "col_sum = vertical_projection(img_bw)"
   ]
  },
  {
   "cell_type": "code",
   "execution_count": null,
   "metadata": {},
   "outputs": [],
   "source": [
    "plt.figure(figsize=(8,6))\n",
    "plt.plot(row_sum, range(h,0,-1))\n",
    "plt.title('Horizontal Projection')\n",
    "plt.show()"
   ]
  },
  {
   "cell_type": "code",
   "execution_count": null,
   "metadata": {},
   "outputs": [],
   "source": [
    "plt.figure(figsize=(8,6))\n",
    "plt.plot(range(w), col_sum)\n",
    "plt.title('Vertical Projection')\n",
    "plt.show()"
   ]
  },
  {
   "cell_type": "code",
   "execution_count": null,
   "metadata": {
    "collapsed": true
   },
   "outputs": [],
   "source": [
    "hp_max = max(row_sum)\n",
    "for i in range(len(row_sum)):\n",
    "    if row_sum[i] < 0.9*hp_max:\n",
    "        row_sum[i] = 0"
   ]
  },
  {
   "cell_type": "code",
   "execution_count": null,
   "metadata": {},
   "outputs": [],
   "source": [
    "plt.figure(figsize=(8,6))\n",
    "plt.plot(row_sum, range(h,0,-1))\n",
    "plt.title('Horizontal Projection After Thresholding')\n",
    "plt.show()"
   ]
  },
  {
   "cell_type": "code",
   "execution_count": null,
   "metadata": {},
   "outputs": [],
   "source": [
    "staff_lines = []\n",
    "for i in range(len(row_sum)):\n",
    "    if row_sum[i]>0:\n",
    "        staff_lines.append(i)\n",
    "len(staff_lines)"
   ]
  },
  {
   "cell_type": "code",
   "execution_count": null,
   "metadata": {},
   "outputs": [],
   "source": [
    "grand_stave_start = []\n",
    "grand_stave_end = []\n",
    "\n",
    "grand_stave_start.append(staff_lines[0])\n",
    "for i in range(len(staff_lines)-1):\n",
    "    if staff_lines[i+1]-staff_lines[i]>20:\n",
    "        grand_stave_end.append(staff_lines[i])\n",
    "        grand_stave_start.append(staff_lines[i+1])\n",
    "grand_stave_end.append(staff_lines[i+1])\n",
    "        \n",
    "print(grand_stave_start)\n",
    "print(grand_stave_end)"
   ]
  },
  {
   "cell_type": "code",
   "execution_count": null,
   "metadata": {},
   "outputs": [],
   "source": [
    "grand_staves = []\n",
    "for i in range(len(grand_stave_start)):\n",
    "    grand_staves.append(img_bw[grand_stave_start[i]-40:grand_stave_end[i]+40])\n",
    "len(grand_staves)"
   ]
  },
  {
   "cell_type": "code",
   "execution_count": null,
   "metadata": {},
   "outputs": [],
   "source": [
    "count=0\n",
    "for i in grand_staves:\n",
    "    count+=1\n",
    "    plt.figure(figsize=(16,16))\n",
    "    plt.imshow(i, cmap = 'gray')\n",
    "    plt.xticks([]), plt.yticks([])\n",
    "    plt.title('Grand Stave {}'.format(count))\n",
    "    plt.show()"
   ]
  },
  {
   "cell_type": "code",
   "execution_count": null,
   "metadata": {
    "scrolled": false
   },
   "outputs": [],
   "source": [
    "bar_dict = {}\n",
    "bar_height_list = []\n",
    "count=0\n",
    "\n",
    "for i in grand_staves:\n",
    "    count+=1\n",
    "    plt.figure(figsize=(16,16))\n",
    "    plt.imshow(i, cmap = 'gray')\n",
    "    plt.xticks([]), plt.yticks([])\n",
    "    plt.title('Grand Stave {}'.format(count))\n",
    "    \n",
    "    col_sum = vertical_projection(i)\n",
    "    vp_max = max(col_sum)\n",
    "    bar_height_list.append(vp_max)\n",
    "    bar_lines = []\n",
    "    \n",
    "    for j in range(len(col_sum)):\n",
    "        if col_sum[j] < 0.9*vp_max:\n",
    "            col_sum[j] = 0\n",
    "        else:\n",
    "            bar_lines.append(j)\n",
    "\n",
    "    bar_dict[count-1] = bar_lines\n",
    "    \n",
    "    col_sum = vertical_projection(i)\n",
    "    vp_max = max(col_sum)\n",
    "    plt.figure(figsize=(16,4))\n",
    "    plt.plot(range(w), col_sum)\n",
    "    plt.xticks([]), plt.yticks([])\n",
    "    plt.title('Vertical Projection for Grand Stave {}'.format(count))\n",
    "    plt.show()\n",
    "    \n",
    "bar_height_avg = int(np.mean(bar_height_list)/255)"
   ]
  },
  {
   "cell_type": "code",
   "execution_count": null,
   "metadata": {},
   "outputs": [],
   "source": [
    "staff_lines_avg = []\n",
    "temp = []\n",
    "\n",
    "for i in range(len(staff_lines)-1):\n",
    "    if staff_lines[i+1]-staff_lines[i]<2:\n",
    "        temp.append(staff_lines[i])\n",
    "        temp.append(staff_lines[i+1])\n",
    "    else:\n",
    "        staff_lines_avg.append(int(round(np.mean(list(set(temp))))))\n",
    "        temp = []\n",
    "\n",
    "staff_lines_avg.append(int(round(np.mean(list(set(temp))))))\n",
    "len(staff_lines_avg)"
   ]
  },
  {
   "cell_type": "code",
   "execution_count": null,
   "metadata": {
    "collapsed": true
   },
   "outputs": [],
   "source": [
    "def crop_notes(img, img_copy, counter=0):\n",
    "    img_height, img_width = img.shape\n",
    "    note_point_list = []\n",
    "\n",
    "    image_transpose = img.transpose()\n",
    "    labels = measure.label(image_transpose, neighbors=8, background=0)\n",
    "\n",
    "    for label in np.unique(labels):\n",
    "        if label == 0:\n",
    "            continue\n",
    "\n",
    "        labelMask = np.zeros(image_transpose.shape, dtype=\"uint8\")\n",
    "        labelMask[labels == label] = 255\n",
    "\n",
    "        note = labelMask.transpose()\n",
    "        numPixels = cv2.countNonZero(note)\n",
    "\n",
    "        if numPixels > 25:\n",
    "            row_sum = horizontal_projection(note)\n",
    "            hp_max = max(row_sum)\n",
    "            for i in range(len(row_sum)):\n",
    "                if row_sum[i] < 0.5*hp_max:\n",
    "                    row_sum[i] = 0\n",
    "\n",
    "            note_point = [i for i, x in enumerate(row_sum) if x][-1]\n",
    "            note_point_list.append(note_point)\n",
    "\n",
    "            x,y,w,h = cv2.boundingRect(note)\n",
    "            filename = 'Output/'+str(counter)+'.jpg'\n",
    "            crop_img = img_copy[0:img_height, x:x+w]\n",
    "            cv2.imwrite(filename, crop_img)\n",
    "            counter += 1\n",
    "            cv2.rectangle(img,(x-5,y-5),(x+w+5,y+h+5),(255,255,255),2)\n",
    "\n",
    "    plt.figure(figsize=(16,16))\n",
    "    plt.imshow(img, cmap = 'gray')\n",
    "    plt.xticks([]), plt.yticks([])\n",
    "    plt.title('Detected Notes')\n",
    "    plt.show()\n",
    "    \n",
    "    return counter, note_point_list"
   ]
  },
  {
   "cell_type": "code",
   "execution_count": null,
   "metadata": {
    "scrolled": false
   },
   "outputs": [],
   "source": [
    "counter = 0\n",
    "key_count = 0\n",
    "last_staff_line_dict = {}\n",
    "note_point_dict = {}\n",
    "\n",
    "for k in grand_staves:\n",
    "    img_copy = k.copy()\n",
    "    \n",
    "    row_sum = horizontal_projection(k)\n",
    "    hp_max = max(row_sum)\n",
    "\n",
    "    for i in range(len(row_sum)):\n",
    "        if row_sum[i] < 0.9*hp_max:\n",
    "            row_sum[i] = 0\n",
    "\n",
    "    staff_lines = []\n",
    "    for i in range(len(row_sum)):\n",
    "        if row_sum[i]>0:\n",
    "            staff_lines.append(i)\n",
    "\n",
    "    for i in staff_lines:\n",
    "        for j in range(w): \n",
    "            if sum(k[i-5:i+5, j])<1500:\n",
    "                k[i,j]=0\n",
    "    \n",
    "    staff_lines_avg = []\n",
    "    temp = []\n",
    "\n",
    "    for i in range(len(staff_lines)-1):\n",
    "        if staff_lines[i+1]-staff_lines[i]<2:\n",
    "            temp.append(staff_lines[i])\n",
    "            temp.append(staff_lines[i+1])\n",
    "        else:\n",
    "            staff_lines_avg.append(int(round(np.mean(list(set(temp))))))\n",
    "            temp = []\n",
    "\n",
    "    staff_lines_avg.append(int(round(np.mean(list(set(temp))))))\n",
    "    last_staff_line_dict[key_count] = staff_lines_avg[-1]\n",
    "\n",
    "    counter, note_point_list = crop_notes(k, img_copy, counter)\n",
    "    note_point_dict[key_count] = note_point_list\n",
    "    key_count+=1"
   ]
  },
  {
   "cell_type": "markdown",
   "metadata": {},
   "source": [
    "# Note Recognition"
   ]
  },
  {
   "cell_type": "code",
   "execution_count": null,
   "metadata": {
    "scrolled": true
   },
   "outputs": [],
   "source": [
    "template_names = ['half_note', 'quarter_note', 'whole_note', 'treble_clef', 'bass_clef', 'time_4', 'sharp']\n",
    "mapping_dict = {-18: 'D', -9: 'E', 0: 'F', 9: 'G', 18: 'A', 27: 'B', 36: 'C', 45: 'D', 54: 'E', 63: 'F', 72: 'G'}\n",
    "\n",
    "best_match = None\n",
    "recognized_notes = []\n",
    "template_matching_result = []\n",
    "time_gaps = []\n",
    "img_counter=0\n",
    "\n",
    "for key, value in note_point_dict.items():\n",
    "    for i in range(len(value)):\n",
    "        \n",
    "        filename = 'Output/'+str(img_counter)+'.jpg'\n",
    "        img = cv2.imread(filename, 0)\n",
    "        max_score = -999\n",
    "\n",
    "        for t in template_names:\n",
    "            template_filename = 'Templates/'+str(t)+'.png'\n",
    "            template = cv2.imread(template_filename, 0)\n",
    "            template = cv2.resize(template, (18,18))\n",
    "\n",
    "            h,w = template.shape\n",
    "            img_h,img_w = img.shape\n",
    "            if img_h<h or img_w<w:\n",
    "                continue\n",
    "\n",
    "            result = cv2.matchTemplate(img, template, cv2.TM_CCORR_NORMED)\n",
    "            min_val, max_val, min_loc, max_loc = cv2.minMaxLoc(result)\n",
    "\n",
    "            if max_val>max_score:\n",
    "                max_score = max_val\n",
    "                best_match = t\n",
    "            top_left = max_loc\n",
    "            bottom_right = (top_left[0] + h, top_left[1] + w)\n",
    "            \n",
    "        min_distance = 9999\n",
    "        if best_match != None and 'note' in best_match:\n",
    "            distance = last_staff_line_dict[key] - note_point_dict[key][i]\n",
    "            for k,v in mapping_dict.items():\n",
    "                difference = abs(distance-k)\n",
    "                if difference < min_distance:\n",
    "                    nearest_note = mapping_dict[k]\n",
    "                    min_distance = difference\n",
    "            recognized_notes.append(nearest_note)\n",
    "        \n",
    "            if 'quarter' in best_match:\n",
    "                time_gaps.append(1)\n",
    "            elif 'half' in best_match:\n",
    "                time_gaps.append(2)\n",
    "            else:\n",
    "                time_gaps.append(4)\n",
    "\n",
    "        print(\"\\nImage {}\".format(img_counter))\n",
    "        if max_score != -999:\n",
    "            # print(\"Max Score = \", max_score)\n",
    "            print(\"Matching Template = {}\".format(best_match))\n",
    "            template_matching_result.append(best_match)\n",
    "            best_match = None\n",
    "            plt.imshow(img, cmap = 'gray')\n",
    "            plt.xticks([]), plt.yticks([])\n",
    "            plt.show()\n",
    "        else:\n",
    "            print(\"Image size is smaller than Template size\")\n",
    "        \n",
    "        img_counter+=1"
   ]
  },
  {
   "cell_type": "code",
   "execution_count": null,
   "metadata": {},
   "outputs": [],
   "source": [
    "sharp_sequence = 'F-C-G-D-A-E-B'\n",
    "sharp_counter = template_matching_result.count('sharp')\n",
    "total_sharp_count = int(round(sharp_counter/len(grand_staves)))\n",
    "\n",
    "for i in range(total_sharp_count):\n",
    "    replacement = sharp_sequence.split('-')[i]\n",
    "    \n",
    "    recognized_notes = [note.replace(replacement, replacement+'#') for note in recognized_notes]"
   ]
  },
  {
   "cell_type": "markdown",
   "metadata": {},
   "source": [
    "# Generate Melody"
   ]
  },
  {
   "cell_type": "code",
   "execution_count": null,
   "metadata": {},
   "outputs": [],
   "source": [
    "midi_note_codes = []\n",
    "midi_mapping_dict = {'C': 60, 'C#': 61, 'D': 62, 'D#': 63, 'E': 64, 'F': 65, 'F#': 66, 'G': 67, 'G#': 68, 'A': 69, 'A#': 70, 'B': 71}\n",
    "\n",
    "for note in recognized_notes:\n",
    "    midi_note_codes.append(midi_mapping_dict[note])"
   ]
  },
  {
   "cell_type": "code",
   "execution_count": null,
   "metadata": {},
   "outputs": [],
   "source": [
    "track    = 0\n",
    "channel  = 0\n",
    "time     = 0\n",
    "duration = 1\n",
    "tempo    = 100\n",
    "volume   = 127\n",
    "\n",
    "MyMIDI = MIDIFile(1)\n",
    "MyMIDI.addTempo(track, time, tempo)\n",
    "\n",
    "for counter in range(len(midi_note_codes)):\n",
    "    MyMIDI.addNote(track, channel, midi_note_codes[counter], time, time_gaps[counter], volume)\n",
    "    time = time + time_gaps[counter]\n",
    "\n",
    "with open(\"Audio/TTLS.midi\", \"wb\") as output_file:\n",
    "    MyMIDI.writeFile(output_file)"
   ]
  },
  {
   "cell_type": "code",
   "execution_count": null,
   "metadata": {
    "collapsed": true
   },
   "outputs": [],
   "source": [
    "sample_rate = 44100\n",
    "channels = 2\n",
    "buffer = 1024\n",
    "bitsize = -16\n",
    "pygame.mixer.init(sample_rate, bitsize, channels, buffer)\n",
    "pygame.mixer.music.set_volume(1.0)\n",
    "\n",
    "def play_music(music_file):\n",
    "\n",
    "    try:\n",
    "        pygame.mixer.music.load(music_file)\n",
    "\n",
    "    except pygame.error:\n",
    "        print (\"Error playing %s! (%s)\" % (music_file, pygame.get_error()))\n",
    "        return\n",
    "\n",
    "    pygame.mixer.music.play()"
   ]
  },
  {
   "cell_type": "code",
   "execution_count": null,
   "metadata": {
    "collapsed": true
   },
   "outputs": [],
   "source": [
    "play_music('Audio/ttls.midi')"
   ]
  }
 ],
 "metadata": {
  "kernelspec": {
   "display_name": "Python 3",
   "language": "python",
   "name": "python3"
  },
  "language_info": {
   "codemirror_mode": {
    "name": "ipython",
    "version": 3
   },
   "file_extension": ".py",
   "mimetype": "text/x-python",
   "name": "python",
   "nbconvert_exporter": "python",
   "pygments_lexer": "ipython3",
   "version": "3.6.1"
  }
 },
 "nbformat": 4,
 "nbformat_minor": 2
}
